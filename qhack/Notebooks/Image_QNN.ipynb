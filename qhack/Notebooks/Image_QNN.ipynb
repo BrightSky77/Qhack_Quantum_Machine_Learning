{
 "cells": [
  {
   "cell_type": "code",
   "execution_count": 1,
   "metadata": {},
   "outputs": [],
   "source": [
    "import random\n",
    "import numpy as np\n",
    "import matplotlib.pyplot as plt\n",
    "\n",
    "import sys\n",
    "sys.path.append('../Pyfiles')\n",
    "# Pull in the helper files.\n",
    "from ImageRead import *\n",
    "from QNN import *\n"
   ]
  },
  {
   "cell_type": "code",
   "execution_count": 2,
   "metadata": {},
   "outputs": [],
   "source": [
    "target_o = [1 for i in range(25)]+[0 for i in range(25)]"
   ]
  },
  {
   "cell_type": "code",
   "execution_count": 3,
   "metadata": {},
   "outputs": [],
   "source": [
    "pathY=r'../dataset/Original/galaxy/'\n",
    "pathN=r'../dataset/Original/No-galaxy/'\n",
    "nameN=''\n",
    "nameY=''\n",
    "# a1 = imageResize(callImage(5,pathY,nameY),16)\n",
    "# a2 = imageResize(callImage(29,pathY,nameY),16)\n",
    "# # plt.imshow(a1,cmap='gray')\n",
    "# plt.imshow(a2,cmap='gray')\n",
    "# plt.imshow(b1,cmap='gray')\n",
    "# plt.imshow(b2,cmap='gray')\n",
    "inputY=[imageResize(callImage(i+1,pathY,nameY),16) for i in range(25)]\n",
    "inputN=[imageResize(callImage(i+1,pathN,nameN),16) for i in range(25)]\n",
    "input_combine = inputY+inputN"
   ]
  },
  {
   "cell_type": "code",
   "execution_count": 4,
   "metadata": {},
   "outputs": [],
   "source": [
    "np.random.seed(0)\n",
    "idx=np.array([int(i) for i in range(50)]).flatten()\n",
    "\n",
    "np.random.shuffle(idx)\n",
    "\n",
    "dataInput = list(input_combine[i] for i in idx )\n",
    "dataTarget = list( imageBinarize(input_combine[i]) for i in idx )\n",
    "\n",
    "data_target_o=list( target_o[i] for i in idx )"
   ]
  },
  {
   "cell_type": "code",
   "execution_count": 5,
   "metadata": {},
   "outputs": [
    {
     "data": {
      "image/png": "[encoded data removed]",
      "text/plain": [
       "<Figure size 1440x432 with 10 Axes>"
      ]
     },
     "metadata": {},
     "output_type": "display_data"
    }
   ],
   "source": [
    "n_samples_show = 5\n",
    "fig, axes = plt.subplots(nrows=2, ncols=n_samples_show, figsize=(20, 6))\n",
    "\n",
    "for i in range(n_samples_show):\n",
    "\n",
    "    axes[0,i].imshow(dataInput[i], cmap='gray')\n",
    "    axes[0,i].set_xticks([])\n",
    "    axes[0,i].set_yticks([])\n",
    "    axes[1,i].imshow(dataInput[i+5], cmap='gray')\n",
    "    axes[1,i].set_xticks([])\n",
    "    axes[1,i].set_yticks([])    \n"
   ]
  },
  {
   "cell_type": "code",
   "execution_count": 8,
   "metadata": {},
   "outputs": [],
   "source": [
    "from qiskit.circuit.parameter import Parameter\n",
    "from qiskit_machine_learning.neural_networks import CircuitQNN\n",
    "from qiskit_machine_learning.connectors import TorchConnector\n",
    "from qiskit.utils import QuantumInstance\n",
    "from torch.nn import Linear, CrossEntropyLoss, MSELoss\n",
    "from torch.optim import LBFGS, SGD,Adam \n",
    "qi = QuantumInstance(Aer.get_backend('statevector_simulator'))\n",
    "from qiskit.circuit.library import RealAmplitudes, ZZFeatureMap\n",
    "from qiskit_machine_learning.algorithms.classifiers import NeuralNetworkClassifier, VQC\n",
    "from qiskit.algorithms.optimizers import COBYLA, L_BFGS_B\n",
    "\n",
    "# Model for LBFGS\n",
    "# Combining the circuit together with CircuitQNN\n",
    "np.random.seed(3)\n",
    "\n",
    "\n",
    "nqubits=6\n",
    "num_inputs=256\n",
    "qc = QuantumCircuit(nqubits)\n",
    "\n",
    "# Encoding\n",
    "param_x=[];\n",
    "for i in range(num_inputs):\n",
    "    param_x.append(Parameter('x'+str(i)))\n",
    "for i in range(8):\n",
    "    param_x.append(np.pi/2)\n",
    "\n",
    "\n",
    "feature_map = encoding(qc,param_x,22)\n",
    "\n",
    "\n",
    "# Optimzing circuit PQC\n",
    "param_y=[];\n",
    "for i in range(nqubits*2):\n",
    "    param_y.append(Parameter('θ'+str(i)))\n",
    "\n",
    "ansatz=circuit15(qc,param_y)\n",
    "\n",
    "qc.append(feature_map, range(nqubits))\n",
    "qc.append(ansatz, range(nqubits))\n",
    "\n",
    "qnn2 = CircuitQNN(qc, input_params=feature_map.parameters, weight_params=ansatz.parameters, \n",
    "                  interpret=parity, output_shape=2, quantum_instance=qi)\n",
    "initial_weights = 0.1*(2*np.random.rand(qnn2.num_weights) - 1)\n"
   ]
  },
  {
   "cell_type": "markdown",
   "metadata": {},
   "source": [
    "# Learning Rate 0.05"
   ]
  },
  {
   "cell_type": "code",
   "execution_count": null,
   "metadata": {},
   "outputs": [],
   "source": [
    "# define optimizer and loss function\n",
    "\n",
    "model2 = TorchConnector(qnn2, initial_weights)\n",
    "\n",
    "optimizer = LBFGS(model2.parameters(),lr=0.05)\n",
    "f_loss = CrossEntropyLoss()\n",
    "\n",
    "X= [normlaizeData(dataInput[i].flatten()) for i in range(50)]\n",
    "y01= [data_target_o[i] for i in range(50)]"
   ]
  },
  {
   "cell_type": "code",
   "execution_count": null,
   "metadata": {},
   "outputs": [],
   "source": [
    "from torch import Tensor\n",
    "# traning model accuracy\n",
    "y_predict = []\n",
    "for x in X:\n",
    "    output = model2(Tensor(x))\n",
    "    y_predict += [np.argmax(output.detach().numpy())]\n",
    "\n",
    "print('Accuracy:', sum(y_predict == np.array(y01))/len(np.array(y01)))"
   ]
  },
  {
   "cell_type": "code",
   "execution_count": 14,
   "metadata": {},
   "outputs": [],
   "source": [
    "# define optimizer and loss function\n",
    "\n",
    "model2 = TorchConnector(qnn2, initial_weights)\n",
    "\n",
    "optimizer = LBFGS(model2.parameters(),lr=0.05)\n",
    "f_loss = CrossEntropyLoss()\n",
    "\n",
    "X= [normlaizeData(dataInput[i].flatten()) for i in range(50)]\n",
    "y01= [data_target_o[i] for i in range(50)]"
   ]
  },
  {
   "cell_type": "code",
   "execution_count": null,
   "metadata": {},
   "outputs": [
    {
     "name": "stdout",
     "output_type": "stream",
     "text": [
      "36.70199203491211\n",
      "36.596290588378906\n",
      "35.72026824951172\n",
      "33.646461486816406\n",
      "33.58949279785156\n",
      "33.4216194152832\n",
      "33.05319595336914\n",
      "32.63026809692383\n",
      "32.33580780029297\n",
      "32.09917068481445\n",
      "31.878211975097656\n",
      "31.671499252319336\n",
      "31.483640670776367\n"
     ]
    }
   ],
   "source": [
    "from torch import Tensor\n",
    "# start training\n",
    "\n",
    "model2.train()    # set model to training mode\n",
    "\n",
    "# define objective function\n",
    "def closure():\n",
    "    optimizer.zero_grad()                                  # initialize gradient\n",
    "    loss = 0.0                                             # initialize loss    \n",
    "    for x, y_target in zip(X, y01):                        # evaluate batch loss\n",
    "        output = model2(Tensor(x)).reshape(1, 2)           # forward pass\n",
    "        loss += f_loss(output, Tensor([y_target]).long())\n",
    "    loss.backward()                                        # backward pass\n",
    "    print(loss.item())                                     # print loss\n",
    "    return loss\n",
    "\n",
    "# run optimizer\n",
    "optimizer.step(closure)\n",
    "optimizer.step(closure)"
   ]
  },
  {
   "cell_type": "code",
   "execution_count": null,
   "metadata": {},
   "outputs": [],
   "source": [
    "# traning model accuracy\n",
    "y_predict = []\n",
    "for x in X:\n",
    "    output = model2(Tensor(x))\n",
    "    y_predict += [np.argmax(output.detach().numpy())]\n",
    "\n",
    "print('Accuracy:', sum(y_predict == np.array(y01))/len(np.array(y01)))"
   ]
  },
  {
   "cell_type": "markdown",
   "metadata": {},
   "source": [
    "# Learning rate 0.06"
   ]
  },
  {
   "cell_type": "code",
   "execution_count": 48,
   "metadata": {},
   "outputs": [
    {
     "ename": "IndexError",
     "evalue": "list index out of range",
     "output_type": "error",
     "traceback": [
      "\u001b[1;31m---------------------------------------------------------------------------\u001b[0m",
      "\u001b[1;31mIndexError\u001b[0m                                Traceback (most recent call last)",
      "\u001b[1;32m~\\AppData\\Local\\Temp/ipykernel_19240/857769905.py\u001b[0m in \u001b[0;36m<module>\u001b[1;34m\u001b[0m\n\u001b[0;32m      6\u001b[0m \u001b[0mf_loss\u001b[0m \u001b[1;33m=\u001b[0m \u001b[0mCrossEntropyLoss\u001b[0m\u001b[1;33m(\u001b[0m\u001b[1;33m)\u001b[0m\u001b[1;33m\u001b[0m\u001b[1;33m\u001b[0m\u001b[0m\n\u001b[0;32m      7\u001b[0m \u001b[1;33m\u001b[0m\u001b[0m\n\u001b[1;32m----> 8\u001b[1;33m \u001b[0mX1\u001b[0m\u001b[1;33m=\u001b[0m \u001b[1;33m[\u001b[0m\u001b[0mnormlaizeData\u001b[0m\u001b[1;33m(\u001b[0m\u001b[0mdataInput\u001b[0m\u001b[1;33m[\u001b[0m\u001b[0mi\u001b[0m\u001b[1;33m]\u001b[0m\u001b[1;33m.\u001b[0m\u001b[0mflatten\u001b[0m\u001b[1;33m(\u001b[0m\u001b[1;33m)\u001b[0m\u001b[1;33m)\u001b[0m \u001b[1;32mfor\u001b[0m \u001b[0mi\u001b[0m \u001b[1;32min\u001b[0m \u001b[0mrange\u001b[0m\u001b[1;33m(\u001b[0m\u001b[1;36m100\u001b[0m\u001b[1;33m)\u001b[0m\u001b[1;33m]\u001b[0m\u001b[1;33m\u001b[0m\u001b[1;33m\u001b[0m\u001b[0m\n\u001b[0m\u001b[0;32m      9\u001b[0m \u001b[0my011\u001b[0m\u001b[1;33m=\u001b[0m \u001b[1;33m[\u001b[0m\u001b[0mdata_target_o\u001b[0m\u001b[1;33m[\u001b[0m\u001b[0mi\u001b[0m\u001b[1;33m]\u001b[0m \u001b[1;32mfor\u001b[0m \u001b[0mi\u001b[0m \u001b[1;32min\u001b[0m \u001b[0mrange\u001b[0m\u001b[1;33m(\u001b[0m\u001b[1;36m100\u001b[0m\u001b[1;33m)\u001b[0m\u001b[1;33m]\u001b[0m\u001b[1;33m\u001b[0m\u001b[1;33m\u001b[0m\u001b[0m\n",
      "\u001b[1;32m~\\AppData\\Local\\Temp/ipykernel_19240/857769905.py\u001b[0m in \u001b[0;36m<listcomp>\u001b[1;34m(.0)\u001b[0m\n\u001b[0;32m      6\u001b[0m \u001b[0mf_loss\u001b[0m \u001b[1;33m=\u001b[0m \u001b[0mCrossEntropyLoss\u001b[0m\u001b[1;33m(\u001b[0m\u001b[1;33m)\u001b[0m\u001b[1;33m\u001b[0m\u001b[1;33m\u001b[0m\u001b[0m\n\u001b[0;32m      7\u001b[0m \u001b[1;33m\u001b[0m\u001b[0m\n\u001b[1;32m----> 8\u001b[1;33m \u001b[0mX1\u001b[0m\u001b[1;33m=\u001b[0m \u001b[1;33m[\u001b[0m\u001b[0mnormlaizeData\u001b[0m\u001b[1;33m(\u001b[0m\u001b[0mdataInput\u001b[0m\u001b[1;33m[\u001b[0m\u001b[0mi\u001b[0m\u001b[1;33m]\u001b[0m\u001b[1;33m.\u001b[0m\u001b[0mflatten\u001b[0m\u001b[1;33m(\u001b[0m\u001b[1;33m)\u001b[0m\u001b[1;33m)\u001b[0m \u001b[1;32mfor\u001b[0m \u001b[0mi\u001b[0m \u001b[1;32min\u001b[0m \u001b[0mrange\u001b[0m\u001b[1;33m(\u001b[0m\u001b[1;36m100\u001b[0m\u001b[1;33m)\u001b[0m\u001b[1;33m]\u001b[0m\u001b[1;33m\u001b[0m\u001b[1;33m\u001b[0m\u001b[0m\n\u001b[0m\u001b[0;32m      9\u001b[0m \u001b[0my011\u001b[0m\u001b[1;33m=\u001b[0m \u001b[1;33m[\u001b[0m\u001b[0mdata_target_o\u001b[0m\u001b[1;33m[\u001b[0m\u001b[0mi\u001b[0m\u001b[1;33m]\u001b[0m \u001b[1;32mfor\u001b[0m \u001b[0mi\u001b[0m \u001b[1;32min\u001b[0m \u001b[0mrange\u001b[0m\u001b[1;33m(\u001b[0m\u001b[1;36m100\u001b[0m\u001b[1;33m)\u001b[0m\u001b[1;33m]\u001b[0m\u001b[1;33m\u001b[0m\u001b[1;33m\u001b[0m\u001b[0m\n",
      "\u001b[1;31mIndexError\u001b[0m: list index out of range"
     ]
    }
   ],
   "source": [
    "# define optimizer and loss function\n",
    "from torch import Tensor\n",
    "model2 = TorchConnector(qnn2, initial_weights)\n",
    "\n",
    "optimizer = LBFGS(model2.parameters(),lr=0.06)\n",
    "f_loss = CrossEntropyLoss()\n",
    "\n",
    "X= [normlaizeData(dataInput[i].flatten()) for i in range(50)]\n",
    "y01= [data_target_o[i] for i in range(50)]\n",
    "\n",
    "y_predict = []\n",
    "for x in X:\n",
    "    output = model2(Tensor(x))\n",
    "    y_predict += [np.argmax(output.detach().numpy())]\n",
    "\n",
    "print('Accuracy:', sum(y_predict == np.array(y01))/len(np.array(y01)))"
   ]
  },
  {
   "cell_type": "code",
   "execution_count": 20,
   "metadata": {},
   "outputs": [
    {
     "name": "stdout",
     "output_type": "stream",
     "text": [
      "10.560748100280762\n",
      "10.555519104003906\n",
      "10.322396278381348\n",
      "10.263618469238281\n",
      "10.231043815612793\n",
      "10.19247817993164\n",
      "10.145801544189453\n",
      "10.094972610473633\n",
      "10.045539855957031\n",
      "10.000255584716797\n",
      "9.959122657775879\n",
      "9.921398162841797\n",
      "9.886467933654785\n",
      "9.853927612304688\n",
      "9.823494911193848\n",
      "9.79495906829834\n",
      "9.768142700195312\n",
      "9.742895126342773\n",
      "9.719085693359375\n",
      "9.696598052978516\n"
     ]
    },
    {
     "data": {
      "text/plain": [
       "tensor(10.5607, grad_fn=<AddBackward0>)"
      ]
     },
     "execution_count": 20,
     "metadata": {},
     "output_type": "execute_result"
    }
   ],
   "source": [
    "from torch import Tensor\n",
    "# start training\n",
    "\n",
    "model2.train()    # set model to training mode\n",
    "\n",
    "# define objective function\n",
    "def closure():\n",
    "    optimizer.zero_grad()                                  # initialize gradient\n",
    "    loss = 0.0                                             # initialize loss    \n",
    "    for x, y_target in zip(X, y01):                        # evaluate batch loss\n",
    "        output = model2(Tensor(x)).reshape(1, 2)           # forward pass\n",
    "        loss += f_loss(output, Tensor([y_target]).long())\n",
    "    loss.backward()                                        # backward pass\n",
    "    print(loss.item())                                     # print loss\n",
    "    return loss\n",
    "\n",
    "# run optimizer\n",
    "optimizer.step(closure)\n",
    "optimizer.step(closure)"
   ]
  },
  {
   "cell_type": "code",
   "execution_count": 22,
   "metadata": {},
   "outputs": [
    {
     "name": "stdout",
     "output_type": "stream",
     "text": [
      "Accuracy: 0.9333333333333333\n"
     ]
    }
   ],
   "source": [
    "# traning model accuracy\n",
    "y_predict = []\n",
    "for x in X:\n",
    "    output = model2(Tensor(x))\n",
    "    y_predict += [np.argmax(output.detach().numpy())]\n",
    "\n",
    "print('Accuracy:', sum(y_predict == np.array(y01))/len(np.array(y01)))"
   ]
  },
  {
   "cell_type": "markdown",
   "metadata": {},
   "source": [
    "# Learning Rate 0.07"
   ]
  },
  {
   "cell_type": "code",
   "execution_count": null,
   "metadata": {},
   "outputs": [],
   "source": [
    "# define optimizer and loss function\n",
    "from torch import Tensor\n",
    "model2 = TorchConnector(qnn2, initial_weights)\n",
    "\n",
    "optimizer = LBFGS(model2.parameters(),lr=0.07)\n",
    "f_loss = CrossEntropyLoss()\n",
    "\n",
    "X= [normlaizeData(dataInput[i].flatten()) for i in range(50)]\n",
    "y01= [data_target_o[i] for i in range(50)]\n",
    "\n",
    "y_predict = []\n",
    "for x in X:\n",
    "    output = model2(Tensor(x))\n",
    "    y_predict += [np.argmax(output.detach().numpy())]\n",
    "\n",
    "print('Accuracy:', sum(y_predict == np.array(y01))/len(np.array(y01)))"
   ]
  },
  {
   "cell_type": "code",
   "execution_count": null,
   "metadata": {},
   "outputs": [],
   "source": [
    "from torch import Tensor\n",
    "# start training\n",
    "\n",
    "model2.train()    # set model to training mode\n",
    "\n",
    "# define objective function\n",
    "def closure():\n",
    "    optimizer.zero_grad()                                  # initialize gradient\n",
    "    loss = 0.0                                             # initialize loss    \n",
    "    for x, y_target in zip(X, y01):                        # evaluate batch loss\n",
    "        output = model2(Tensor(x)).reshape(1, 2)           # forward pass\n",
    "        loss += f_loss(output, Tensor([y_target]).long())\n",
    "    loss.backward()                                        # backward pass\n",
    "    print(loss.item())                                     # print loss\n",
    "    return loss\n",
    "\n",
    "# run optimizer\n",
    "optimizer.step(closure)\n",
    "optimizer.step(closure)"
   ]
  },
  {
   "cell_type": "code",
   "execution_count": null,
   "metadata": {},
   "outputs": [],
   "source": [
    "# traning model accuracy\n",
    "y_predict = []\n",
    "for x in X:\n",
    "    output = model2(Tensor(x))\n",
    "    y_predict += [np.argmax(output.detach().numpy())]\n",
    "\n",
    "print('Accuracy:', sum(y_predict == np.array(y01))/len(np.array(y01)))"
   ]
  },
  {
   "cell_type": "markdown",
   "metadata": {},
   "source": [
    "# TestModel2"
   ]
  },
  {
   "cell_type": "code",
   "execution_count": 18,
   "metadata": {},
   "outputs": [
    {
     "name": "stdout",
     "output_type": "stream",
     "text": [
      "Accuracy: 0.84\n"
     ]
    }
   ],
   "source": [
    "target_o = [1 for i in range(25)]+[0 for i in range(25)]\n",
    "\n",
    "pathY=r'../dataset/Original/galaxy1/'\n",
    "pathN=r'../dataset/Original/no-galaxy1/'\n",
    "nameN=''\n",
    "nameY=''\n",
    "inputY=[imageResize(callImage(i+1,pathY,nameY),16) for i in range(25)]\n",
    "inputN=[imageResize(callImage(i+1,pathN,nameN),16) for i in range(25)]\n",
    "input_combine = inputY+inputN\n",
    "\n",
    "np.random.seed(0)\n",
    "idx=np.array([int(i) for i in range(50)]).flatten()\n",
    "\n",
    "np.random.shuffle(idx)\n",
    "\n",
    "dataInput = list(input_combine[i] for i in idx )\n",
    "dataTarget = list( imageBinarize(input_combine[i]) for i in idx )\n",
    "\n",
    "data_target_o=list( target_o[i] for i in idx )\n",
    "\n",
    "Xtest= [normlaizeData(dataInput[i].flatten()) for i in range(25)]\n",
    "y01test= [data_target_o[i] for i in range(25)]\n",
    "\n",
    "Xtest1= [normlaizeData(dataInput[i].flatten()) for i in range(50)]\n",
    "y01test1= [data_target_o[i] for i in range(50)]\n",
    "\n",
    "y_predict = []\n",
    "for x in Xtest:\n",
    "    output = model2(Tensor(x))\n",
    "    y_predict += [np.argmax(output.detach().numpy())]\n",
    "\n",
    "print('Accuracy25data:', sum(y_predict == np.array(y01test))/len(np.array(y01test)))\n",
    "\n",
    "y_predict1 = []\n",
    "for x in Xtest1:\n",
    "    output = model2(Tensor(x))\n",
    "    y_predict1 += [np.argmax(output.detach().numpy())]\n",
    "\n",
    "print('Accuracy50data:', sum(y_predict1 == np.array(y01test1))/len(np.array(y01test1)))"
   ]
  },
  {
   "cell_type": "code",
   "execution_count": null,
   "metadata": {},
   "outputs": [],
   "source": []
  }
 ],
 "metadata": {
  "interpreter": {
   "hash": "7085d7f3a85dff14807db3b039303f4d3e7814f3ae962158c22b2b6462c5d354"
  },
  "kernelspec": {
   "display_name": "Python 3 (ipykernel)",
   "language": "python",
   "name": "python3"
  },
  "language_info": {
   "codemirror_mode": {
    "name": "ipython",
    "version": 3
   },
   "file_extension": ".py",
   "mimetype": "text/x-python",
   "name": "python",
   "nbconvert_exporter": "python",
   "pygments_lexer": "ipython3",
   "version": "3.9.7"
  }
 },
 "nbformat": 4,
 "nbformat_minor": 2
}
